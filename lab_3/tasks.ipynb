{
 "cells": [
  {
   "cell_type": "markdown",
   "metadata": {},
   "source": [
    "Практика 17.10.23\n",
    "\n",
    "Сгенерировать, используя модуль псевдослучайных чисел random, или ввести с клавиатуры список целых чисел. Вывести в консоль, затем перевернуть его и снова вывести в консоль.\n",
    "\n",
    "Сгенерировать, используя модуль псевдослучайных чисел random, или ввести с клавиатуры два списка целых чисел. Вывести их в консоль. Создать новый пустой список. Добавить в него все четные (по индексу) элементы первого списка и все нечетные (по индексу) элементы второго списка. Вывести третий список в консоль.\n",
    "\n",
    "Сгенерировать, используя модуль псевдослучайных чисел random, или ввести с клавиатуры список произвольных элементов (целые числа, числа с плавающей точкой, строки). Вывести в консоль. Убрать из него все дубликаты через приведение типов. Вывести в консоль.\n",
    "\n",
    "Сгенерировать, используя модуль псевдослучайных чисел random, или ввести с клавиатуры словарь, где ключом является строка, значением — целое число или число с плавающей точкой. Вывести в консоль. Для всех уникальных значений создать кортеж, где первым элементом будет значение, вторым — список связанных с ним ключей. Собрать эти кортежи в список, вывести его в консоль.\n",
    "\n",
    "Сгенерировать, используя модуль псевдослучайных чисел random, или ввести с клавиатуры два словаря, где ключом является строка, значением — целое число или число с плавающей точкой. Вывести в консоль. Найти пересечения множеств значений словарей. Создать новый словарь, содержащий только те пары ключ-значение, значения из которых входит в пересечение. Вывести в консоль."
   ]
  },
  {
   "cell_type": "markdown",
   "metadata": {},
   "source": [
    "# Игошев Матвей Иванович"
   ]
  },
  {
   "cell_type": "markdown",
   "metadata": {},
   "source": [
    "## Задание №1\n"
   ]
  },
  {
   "cell_type": "code",
   "execution_count": 2,
   "metadata": {},
   "outputs": [
    {
     "name": "stdout",
     "output_type": "stream",
     "text": [
      "List:  [8, 0, 1, 0, 3]\n",
      "Reversed list:  [3, 0, 1, 0, 8]\n"
     ]
    }
   ],
   "source": [
    "import random\n",
    "\n",
    "list_size = 5\n",
    "\n",
    "l = [random.randrange(0,10) for _ in  range(list_size)]\n",
    "\n",
    "print(\"List: \", l)\n",
    "\n",
    "l_reversed = l[::-1]\n",
    "\n",
    "print(\"Reversed list: \", l_reversed)"
   ]
  },
  {
   "cell_type": "markdown",
   "metadata": {},
   "source": [
    "## Задание №2\n"
   ]
  },
  {
   "cell_type": "code",
   "execution_count": 40,
   "metadata": {},
   "outputs": [
    {
     "name": "stdout",
     "output_type": "stream",
     "text": [
      "First list:  [6, 4, 5, 4]\n",
      "Second list:  [7, 4, 0, 8, 2, 7]\n",
      "[6, 4, 5, 8, 7]\n"
     ]
    }
   ],
   "source": [
    "l1_size = 4\n",
    "l2_size = 6\n",
    "\n",
    "l1 = [random.randrange(10) for _ in range(l1_size)]\n",
    "l2 = [random.randrange(10) for _ in range(l2_size)]\n",
    "\n",
    "print(\"First list: \", l1)\n",
    "print(\"Second list: \", l2)\n",
    "\n",
    "l_result = []\n",
    "\n",
    "for i in range(max(len(l1),len(l2))):\n",
    "    if i % 2 == 0:\n",
    "        l_result.append(l1[i]) if i < len(l1) else None\n",
    "    else:\n",
    "        l_result.append(l2[i]) if i < len(l2) else None\n",
    "        \n",
    "print(l_result)\n",
    "    "
   ]
  },
  {
   "cell_type": "markdown",
   "metadata": {},
   "source": [
    "## Задание №3"
   ]
  },
  {
   "cell_type": "code",
   "execution_count": 73,
   "metadata": {},
   "outputs": [
    {
     "name": "stdout",
     "output_type": "stream",
     "text": [
      "Input list:  [3.682, 5.952, 6.928, 7, 8, 8, 7, 'lteta', 'attel', 'leatt', 'leatt']\n",
      "Result list:  [3.682, 5.952, 6.928, 7, 8, 'attel', 'lteta', 'leatt']\n"
     ]
    }
   ],
   "source": [
    "k = random.randrange(2,5)\n",
    "input_list = []\n",
    "for i in range(k):\n",
    "    input_list.append(round(random.random()*10,3))\n",
    "k1 = random.randrange(2,5)\n",
    "for i in range(k1):\n",
    "    input_list.append(random.randrange(2,10))\n",
    "k2 = random.randrange(2,5)\n",
    "for i in range(k2):\n",
    "    input_list.append(''.join(str(x) for x in random.sample(\"latte\", k=5)))\n",
    "\n",
    "print(\"Input list: \", input_list)\n",
    "\n",
    "print(\"Result list: \", list(set(input_list)))"
   ]
  },
  {
   "cell_type": "markdown",
   "metadata": {},
   "source": [
    "## Задание №4\n"
   ]
  },
  {
   "cell_type": "code",
   "execution_count": 165,
   "metadata": {},
   "outputs": [
    {
     "name": "stdout",
     "output_type": "stream",
     "text": [
      "Generated dictionary:  {'etalt': 2.088, 'aetlt': 0.211, 'tetla': 0.373, 'tatel': 3, 'aettl': 3}\n",
      "Result list:  [(0.211, ['aetlt']), (0.373, ['tetla']), (2.088, ['etalt']), (3, ['tatel', 'aettl'])]\n"
     ]
    }
   ],
   "source": [
    "k = random.randrange(5,10)\n",
    "keys_list = [''.join(str(x) for x in random.sample(\"latte\", k=5)) for _ in range(k)]\n",
    "\n",
    "k_ = 0\n",
    "if k%2==0:\n",
    "    k_ = k//2\n",
    "else:\n",
    "    k_ = k//2+1\n",
    "\n",
    "values_list = [round(random.random()*10,3) for _ in range(k_)] + [random.randrange(2,5) for _ in range(k//2)]\n",
    "_dict = {k: v for k, v in zip(keys_list, values_list)}\n",
    "\n",
    "print(\"Generated dictionary: \",_dict)\n",
    "\n",
    "\n",
    "res = []\n",
    "values_list = list(set(_dict.values()))\n",
    "\n",
    "for i in range(len(values_list)):\n",
    "    res.append([values_list[i], []])\n",
    "    \n",
    "for i in range(len(values_list)):\n",
    "    for k, v in _dict.items():\n",
    "        if v == values_list[i] and not (k in res[1]):\n",
    "            res[i][1].append(k)\n",
    "\n",
    "for i in range(len(res)):\n",
    "    res[i] = tuple(res[i])\n",
    "\n",
    "print(\"Result list: \", res)\n"
   ]
  },
  {
   "cell_type": "markdown",
   "metadata": {},
   "source": [
    "## Задание №5"
   ]
  },
  {
   "cell_type": "code",
   "execution_count": 197,
   "metadata": {},
   "outputs": [
    {
     "name": "stdout",
     "output_type": "stream",
     "text": [
      "First generated dictionary:  {'ltaet': 8.956, 'attle': 5.835, 'tetal': 8.559, 'ttlea': 4, 'ettal': 2, 'ttlae': 3}\n",
      "Second generated dictionary:  {'ltaet': 8.788, 'attle': 5.55, 'tetal': 9.588, 'ttlea': 4, 'ettal': 3, 'ttlae': 4}\n",
      "Result dictionary:  {'ttlea': 4, 'ttlae': 3, 'ettal': 3}\n"
     ]
    }
   ],
   "source": [
    "k = random.randrange(5,10)\n",
    "keys_list = [''.join(str(x) for x in random.sample(\"latte\", k=5)) for _ in range(k)]\n",
    "\n",
    "k_ = 0\n",
    "if k%2==0:\n",
    "    k_ = k//2\n",
    "else:\n",
    "    k_ = k//2+1\n",
    "\n",
    "values_list = [round(random.random()*10,3) for _ in range(k_)] + [random.randrange(2,5) for _ in range(k//2)]\n",
    "_dict1 = {k: v for k, v in zip(keys_list, values_list)}\n",
    "\n",
    "values_list = [round(random.random()*10,3) for _ in range(k_)] + [random.randrange(2,5) for _ in range(k//2)]\n",
    "_dict2 = {k: v for k, v in zip(keys_list, values_list)}\n",
    "\n",
    "print(\"First generated dictionary: \",_dict1)\n",
    "print(\"Second generated dictionary: \",_dict2)\n",
    "\n",
    "res = []\n",
    "suitable_values = []\n",
    "\n",
    "for k1, v1 in _dict1.items():\n",
    "    for k2, v2 in _dict2.items():\n",
    "        if v1 == v2:\n",
    "            suitable_values.append([k1,v1])\n",
    "            suitable_values.append([k2,v2])\n",
    "            \n",
    "\n",
    "res_dict = {}\n",
    "\n",
    "for x in suitable_values:\n",
    "    res_dict[x[0]] = x[1]\n",
    "\n",
    "print(\"Result dictionary: \",res_dict)"
   ]
  }
 ],
 "metadata": {
  "kernelspec": {
   "display_name": "Python 3",
   "language": "python",
   "name": "python3"
  },
  "language_info": {
   "codemirror_mode": {
    "name": "ipython",
    "version": 3
   },
   "file_extension": ".py",
   "mimetype": "text/x-python",
   "name": "python",
   "nbconvert_exporter": "python",
   "pygments_lexer": "ipython3",
   "version": "3.11.5"
  }
 },
 "nbformat": 4,
 "nbformat_minor": 2
}
