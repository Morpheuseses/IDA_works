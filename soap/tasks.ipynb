{
 "cells": [
  {
   "cell_type": "markdown",
   "metadata": {},
   "source": [
    "### Practice № 4\n"
   ]
  },
  {
   "cell_type": "code",
   "execution_count": 1,
   "metadata": {},
   "outputs": [
    {
     "name": "stdout",
     "output_type": "stream",
     "text": [
      "Result:  <?xml version=\"1.0\" encoding=\"utf-8\"?>\n",
      "<soap:Envelope xmlns:soap=\"http://schemas.xmlsoap.org/soap/envelope/\">\n",
      "  <soap:Body>\n",
      "    <m:NumberToWordsResponse xmlns:m=\"http://www.dataaccess.com/webservicesserver/\">\n",
      "      <m:NumberToWordsResult>one thousand</m:NumberToWordsResult>\n",
      "    </m:NumberToWordsResponse>\n",
      "  </soap:Body>\n",
      "</soap:Envelope>\n"
     ]
    }
   ],
   "source": [
    "import requests\n",
    "\n",
    "\n",
    "url = 'https://www.dataaccess.com/webservicesserver/NumberConversion.wso'\n",
    "\n",
    "inputvalue = \"\"\"1000\"\"\"\n",
    "\n",
    "payload =\"\"\"<?xml version=\"1.0\" encoding=\"utf-8\"?>\n",
    "            <soap:Envelope xmlns:soap=\"http://schemas.xmlsoap.org/soap/envelope/\">\n",
    "            <soap:Body>\n",
    "                <NumberToWords xmlns=\"http://www.dataaccess.com/webservicesserver/\">\n",
    "                <ubiNum>\"\"\"+ inputvalue +\"\"\"</ubiNum>\n",
    "                </NumberToWords>\n",
    "            </soap:Body>\n",
    "            </soap:Envelope>\"\"\"\n",
    "\n",
    "headers = {\n",
    "    'Content-Type': 'text/xml; charset=utf-8'\n",
    "}\n",
    "\n",
    "response = requests.request(\"POST\", url, headers=headers, data=payload)\n",
    "\n",
    "\n",
    "print('Result: ', response.text)\n",
    "# print(response)"
   ]
  },
  {
   "cell_type": "code",
   "execution_count": null,
   "metadata": {},
   "outputs": [],
   "source": [
    "!pip install zeep"
   ]
  },
  {
   "cell_type": "code",
   "execution_count": 21,
   "metadata": {},
   "outputs": [
    {
     "name": "stdout",
     "output_type": "stream",
     "text": [
      "Full country info\n",
      "Name:  Russian Federation\n",
      "Language:  Russian\n",
      "Currency:  RUB\n",
      "Flag: \n"
     ]
    },
    {
     "data": {
      "text/plain": [
       "<matplotlib.image.AxesImage at 0x7ddd007404d0>"
      ]
     },
     "execution_count": 21,
     "metadata": {},
     "output_type": "execute_result"
    },
    {
     "data": {
      "image/png": "[encoded data removed]",
      "text/plain": [
       "<Figure size 640x480 with 1 Axes>"
      ]
     },
     "metadata": {},
     "output_type": "display_data"
    }
   ],
   "source": [
    "# 2\n",
    "import matplotlib.pyplot as plt\n",
    "from PIL import Image\n",
    "import requests\n",
    "from io import BytesIO\n",
    "\n",
    "import zeep \n",
    "\n",
    "wsdl_url = \"http://webservices.oorsprong.org/websamples.countryinfo/CountryInfoService.wso?WSDL\" \n",
    "\n",
    "method_url = \"http://webservices.oorsprong.org/websamples.countryinfo/CountryInfoService.wso?op=FullCountryInfo\"\n",
    "\n",
    "service_url = \"http://webservices.oorsprong.org/websamples.countryinfo/CountryInfoService.wso\"\n",
    "\n",
    "header = zeep.xsd.Element(\n",
    "    \"Header\",\n",
    "    zeep.xsd.ComplexType(\n",
    "        [\n",
    "            zeep.xsd.Element(\n",
    "                 \"{http://www.w3.org/2005/08/addressing}Action\", zeep.xsd.String()\n",
    "            ),\n",
    "            zeep.xsd.Element(\n",
    "                 \"{http://www.w3.org/2005/08/addressing}To\", zeep.xsd.String()\n",
    "            ),\n",
    "        ]\n",
    "    ),\n",
    ")\n",
    "\n",
    "header_value = header(Action=method_url, To=service_url)\n",
    "\n",
    "client = zeep.Client(wsdl=wsdl_url)\n",
    "\n",
    "country_code = \"RU\"\n",
    "\n",
    "result = client.service.FullCountryInfo(sCountryISOCode=country_code, _soapheaders=[header_value])\n",
    "\n",
    "print('Full country info')\n",
    "print(\"Name: \", result.sName)\n",
    "print(\"Language: \",result.Languages.tLanguage[0].sName)\n",
    "print(\"Currency: \", result.sCurrencyISOCode)\n",
    "print(\"Flag: \")\n",
    "\n",
    "response = requests.get(result.sCountryFlag)\n",
    "img = Image.open(BytesIO(response.content))\n",
    "\n",
    "plt.axis(\"off\")\n",
    "plt.imshow(img)\n"
   ]
  }
 ],
 "metadata": {
  "kernelspec": {
   "display_name": "Python 3",
   "language": "python",
   "name": "python3"
  },
  "language_info": {
   "codemirror_mode": {
    "name": "ipython",
    "version": 3
   },
   "file_extension": ".py",
   "mimetype": "text/x-python",
   "name": "python",
   "nbconvert_exporter": "python",
   "pygments_lexer": "ipython3",
   "version": "3.11.6"
  }
 },
 "nbformat": 4,
 "nbformat_minor": 2
}
